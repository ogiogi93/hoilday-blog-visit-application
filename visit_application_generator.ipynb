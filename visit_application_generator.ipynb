{
 "cells": [
  {
   "cell_type": "code",
   "execution_count": 1,
   "metadata": {},
   "outputs": [],
   "source": [
    "import datetime\n",
    "import smtplib\n",
    "from pytz import timezone\n",
    "\n",
    "from email.mime.text import MIMEText\n",
    "from email.mime.base import MIMEBase\n",
    "from email.mime.multipart import MIMEMultipart\n",
    "from email import encoders\n",
    "from httplib2 import Http\n",
    "\n",
    "from docx import Document\n",
    "from googleapiclient.discovery import build\n",
    "from oauth2client.service_account import ServiceAccountCredentials"
   ]
  },
  {
   "cell_type": "markdown",
   "metadata": {},
   "source": [
    "### Googleカレンダーから予定を取得する "
   ]
  },
  {
   "cell_type": "code",
   "execution_count": 2,
   "metadata": {},
   "outputs": [],
   "source": [
    "GOOGLE_OAUTH_SERVICE_ACCOUNT_PRIVATE_KEY_PATH = 'google_oauth.json' #　credentialsが記載されたjsonのパスを指定する\n",
    "GOOGLE_CALENDER_ID = '' # データを取得したいGoogleカレンダーのIDを指定する\n",
    "GOOGLE_CALENDER_SCOPES = ['https://www.googleapis.com/auth/calendar.readonly'] # read権限のみ付与する"
   ]
  },
  {
   "cell_type": "code",
   "execution_count": 3,
   "metadata": {},
   "outputs": [
    {
     "data": {
      "text/plain": [
       "[]"
      ]
     },
     "execution_count": 3,
     "metadata": {},
     "output_type": "execute_result"
    }
   ],
   "source": [
    "# 認証\n",
    "credentials = ServiceAccountCredentials.from_json_keyfile_name(\n",
    "    GOOGLE_OAUTH_SERVICE_ACCOUNT_PRIVATE_KEY_PATH, scopes=GOOGLE_CALENDER_SCOPES)\n",
    "google_http_auth = credentials.authorize(Http())\n",
    "\n",
    "# データを取得\n",
    "calendar_service = build('calendar', 'v3', http=google_http_auth, cache_discovery=False)\n",
    "\n",
    "events_result = calendar_service.events().list(\n",
    "    calendarId=GOOGLE_CALENDER_ID,\n",
    "    timeMin=datetime.datetime.now(timezone('Asia/Tokyo')).isoformat(),\n",
    "    timeMax=(datetime.datetime.now(timezone('Asia/Tokyo')) + datetime.timedelta(days=3)).isoformat(),\n",
    "    orderBy='startTime',\n",
    "    singleEvents=True,\n",
    ").execute()\n",
    "events = events_result.get('items', [])\n",
    "events\n",
    "# 期限内にデータが存在していた場合はjsonが返ってきます"
   ]
  },
  {
   "cell_type": "markdown",
   "metadata": {},
   "source": [
    "### 申請書(.word)に文字列を記載する "
   ]
  },
  {
   "cell_type": "code",
   "execution_count": 4,
   "metadata": {},
   "outputs": [],
   "source": [
    "VISIT_APPLICATION_DOCX_PATH = 'visit_application.docx' # 値を書き込みたいdocxファイルのパスを指定する\n",
    "SUBMIT_APPLICATION_DOCX_PATH = 'submit_visit_application.docx' # 書き込んだdocxファイルの保存先を指定する\n",
    "\n",
    "EXAMPLES = [\n",
    "    {'name': 'テスト　太郎', 'name_kana': 'テスト タロウ', 'company_name': 'ホリデー株式会社', 'email': 'test@test.com'},\n",
    "    {'name': '荻原　タロウ', 'name_kana': 'オギワラ　タロウ', 'company_name': 'ホリデー株式会社', 'email': 'test_ogiwara@test.com'}\n",
    "]"
   ]
  },
  {
   "cell_type": "code",
   "execution_count": 5,
   "metadata": {},
   "outputs": [],
   "source": [
    "# wordをロードする\n",
    "document = Document(VISIT_APPLICATION_DOCX_PATH)\n",
    "# word内の一つ目のテーブルを指定する\n",
    "docx_table = document.tables[0]\n",
    "\n",
    "for i, example in enumerate(EXAMPLES):\n",
    "    # テーブルのi行目を指定する\n",
    "    row = docx_table.rows[i + 1]\n",
    "\n",
    "    # 各行のセルに値を書き込んでいくよ\n",
    "    row.cells[0].text = '05/01'\n",
    "    row.cells[1].text = '10:00'\n",
    "    row.cells[2].text = example['company_name']\n",
    "    row.cells[3].text = example['name']\n",
    "    row.cells[4].text = example['name_kana']\n",
    "    row.cells[5].text = example['email']\n",
    "\n",
    "# 書き込み終わったら新しいファイル名で保存する\n",
    "document.save(SUBMIT_APPLICATION_DOCX_PATH)"
   ]
  },
  {
   "cell_type": "markdown",
   "metadata": {},
   "source": [
    "### メールに添付し送信する "
   ]
  },
  {
   "cell_type": "code",
   "execution_count": 6,
   "metadata": {},
   "outputs": [],
   "source": [
    "# GMAILを使ってメールを送信してみる\n",
    "GMAIL_HOST = 'smtp.gmail.com'\n",
    "GMAIL_PORT = 587\n",
    "\n",
    "# 使用するGMAILアカウントのID, PASSWORDを入力する\n",
    "GMAIL_USERNAME = ''\n",
    "GMAIL_PASSWORD = ''\n",
    "\n",
    "# 使用するGMAILのアドレスを入力する (送信元)\n",
    "FROM_ADDRESS = ''\n",
    "# 送信先のメールアドレスを入力する\n",
    "TO_ADDRESS = ''\n",
    "\n",
    "# メールの件名\n",
    "MESSAGE_SUBJECT = ''\n",
    "# メールの本文\n",
    "MESSAGE_BODY = ''\n",
    "\n",
    "# 上記で作成したワードファイルを指定してみる\n",
    "attachment_file_path = SUBMIT_APPLICATION_DOCX_PATH \n",
    "attachment_file_name = 'submit_visit_application.docx'"
   ]
  },
  {
   "cell_type": "code",
   "execution_count": 7,
   "metadata": {},
   "outputs": [],
   "source": [
    "# メール用のメッセージを作成する\n",
    "message = MIMEMultipart()\n",
    "message['Subject'] = MESSAGE_SUBJECT # 件名\n",
    "message['From'] = FROM_ADDRESS # 送信元メールアドレス\n",
    "message['To'] = TO_ADDRESS # 送信先メールアドレス\n",
    "message.attach(MIMEText(MESSAGE_BODY, 'plain'))  # 本文\n",
    "\n",
    "# ファイルを添付する\n",
    "part = MIMEBase('application', \"octet-stream\")\n",
    "part.set_payload(open(attachment_file_path, \"rb\").read())\n",
    "encoders.encode_base64(part)\n",
    "part.add_header('Content-Disposition', 'attachment; filename=\"{}\"'.format(attachment_file_name))\n",
    "message.attach(part)"
   ]
  },
  {
   "cell_type": "code",
   "execution_count": 8,
   "metadata": {},
   "outputs": [
    {
     "data": {
      "text/plain": [
       "(221, b'2.0.0 closing connection g4sm80641848pfm.115 - gsmtp')"
      ]
     },
     "execution_count": 8,
     "metadata": {},
     "output_type": "execute_result"
    }
   ],
   "source": [
    "# メールを送信する\n",
    "\n",
    "# SMTPのセットアップ\n",
    "smtp = smtplib.SMTP(GMAIL_HOST, GMAIL_PORT)\n",
    "smtp.ehlo()\n",
    "smtp.starttls()\n",
    "smtp.ehlo()\n",
    "\n",
    "# GMAILにログインする\n",
    "smtp.login(GMAIL_USERNAME, GMAIL_PASSWORD)\n",
    "# メールを送信\n",
    "smtp.sendmail(FROM_ADDRESS, TO_ADDRESS, message.as_string())\n",
    "# SMTPを閉じる\n",
    "smtp.quit()"
   ]
  },
  {
   "cell_type": "code",
   "execution_count": null,
   "metadata": {},
   "outputs": [],
   "source": []
  }
 ],
 "metadata": {
  "kernelspec": {
   "display_name": "Python 3",
   "language": "python",
   "name": "python3"
  },
  "language_info": {
   "codemirror_mode": {
    "name": "ipython",
    "version": 3
   },
   "file_extension": ".py",
   "mimetype": "text/x-python",
   "name": "python",
   "nbconvert_exporter": "python",
   "pygments_lexer": "ipython3",
   "version": "3.7.0"
  }
 },
 "nbformat": 4,
 "nbformat_minor": 2
}
